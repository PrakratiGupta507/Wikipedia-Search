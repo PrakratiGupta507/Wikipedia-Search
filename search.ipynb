{
 "cells": [
  {
   "cell_type": "code",
   "execution_count": null,
   "metadata": {
    "id": "A0lysJxxDyGx"
   },
   "outputs": [],
   "source": [
    "from google.colab import drive\n",
    "drive.mount('/content/drive')\n",
    "!pip install autocorrect"
   ]
  },
  {
   "cell_type": "code",
   "execution_count": 1,
   "metadata": {
    "id": "YVF9Tni-DJbn"
   },
   "outputs": [],
   "source": [
    "import re, os, sys, nltk\n",
    "import xml.etree.cElementTree as et\n",
    "import pickle, base64, time\n",
    "from heapq import *\n",
    "import math, operator, json, copy\n",
    "from autocorrect import Speller\n",
    "spell = Speller()\n",
    "# basePath = '/content/drive/MyDrive/Wiki-Search/'"
   ]
  },
  {
   "cell_type": "code",
   "execution_count": 2,
   "metadata": {
    "id": "Z7xi6NqODT0Y"
   },
   "outputs": [],
   "source": [
    "stemmer = nltk.stem.SnowballStemmer('english')\n",
    "stop_words = {}\n",
    "stop_file = open(\"stop_words.txt\", \"r\")\n",
    "words = stop_file.read()\n",
    "words = words.split(\",\")\n",
    "for word in words:\n",
    "    word = word.strip()\n",
    "    if word:\n",
    "        stop_words[word[1:-1]] = 1\n",
    "#print(stop_words)"
   ]
  },
  {
   "cell_type": "code",
   "execution_count": 4,
   "metadata": {
    "id": "NBOKZL7eDYfQ"
   },
   "outputs": [],
   "source": [
    "fields = {}\n",
    "fields[\"t\"] = open(\"title_output.txt\",\"r\")\n",
    "fields[\"c\"] = open(\"category_output.txt\",\"r\")\n",
    "fields[\"i\"] = open(\"infobox_output.txt\",\"r\")\n",
    "fields[\"b\"] = open(\"body_text_output.txt\",\"r\")"
   ]
  },
  {
   "cell_type": "code",
   "execution_count": 5,
   "metadata": {
    "id": "0KfNJcMlAr3C"
   },
   "outputs": [
    {
     "data": {
      "text/plain": [
       "<_io.TextIOWrapper name='category_output.txt' mode='r' encoding='UTF-8'>"
      ]
     },
     "execution_count": 5,
     "metadata": {},
     "output_type": "execute_result"
    }
   ],
   "source": [
    "fields['c']"
   ]
  },
  {
   "cell_type": "code",
   "execution_count": 6,
   "metadata": {
    "id": "oWbMLSMLEJyl"
   },
   "outputs": [],
   "source": [
    "words_position = {}\n",
    "with open(\"word_position.json\",'r') as f:\n",
    "    words_position = json.load(f)"
   ]
  },
  {
   "cell_type": "code",
   "execution_count": 7,
   "metadata": {
    "id": "es9OOUlVEVwA"
   },
   "outputs": [],
   "source": [
    "title_position = pickle.load(open(\"title_position.pickle\", \"rb\"))"
   ]
  },
  {
   "cell_type": "code",
   "execution_count": 8,
   "metadata": {
    "id": "YIWidKpdEc7X"
   },
   "outputs": [],
   "source": [
    "titles = open(\"titles.txt\",'r',encoding=\"utf8\")\n",
    "results = 10"
   ]
  },
  {
   "cell_type": "code",
   "execution_count": null,
   "metadata": {
    "colab": {
     "base_uri": "https://localhost:8080/"
    },
    "id": "W_6hQDt8EkfI",
    "outputId": "db79f3af-1cb4-4a06-82ff-248a8bf2ff24"
   },
   "outputs": [
    {
     "name": "stdout",
     "output_type": "stream",
     "text": [
      "> Gandhi\n",
      "Normal Query after auto-correction:  Gandhi\n",
      "t\n",
      "c\n",
      "i\n",
      "b\n",
      "Time Taken :-  0.012713909149169922\n",
      "Number of Results :-  10\n",
      "Gandhi's autobiography\n",
      "Autobiography Gandhi\n",
      "Gandhi An Autobiography\n",
      "Wikipedia:Votes for deletion/Better Than Gandhi\n",
      "Gandhi (American band)\n",
      "Wikipedia:Wikipedia Signpost/2005-05-16/Features and admins\n",
      "Simi Garewal\n",
      "Sonipat district\n",
      "Pakistani Americans\n",
      "One man, one vote\n",
      "> Hello\n",
      "Normal Query after auto-correction:  Hello\n",
      "t\n",
      "c\n",
      "i\n",
      "b\n",
      "Time Taken :-  0.053797006607055664\n",
      "Number of Results :-  10\n",
      "Hello Kitty World\n",
      "Sega Dreamcast Hello Kitty\n",
      "Dreamcast Hello Kitty\n",
      "Hello Deli\n",
      "Hello Joe\n",
      "Hello Darwin\n",
      "Template:Hello\n",
      "Apollo 11\n",
      "ABBA\n",
      "Amplitude modulation\n",
      "> title:Gandhi\n",
      "Field Query after auto correction:  Gandhi\n",
      "1020301:-1.87\n",
      "1042854:-1.87\n",
      "105556:-1.87\n",
      "113753:-1.87\n",
      "122258:-1.87\n",
      "136327:-1.87\n",
      "1106487:-1.87\n",
      "1126110:-1.87\n",
      "1126432:-1.87\n",
      "1128214:-1.87\n",
      "1131116:-1.87\n",
      "1131119:-1.87\n",
      "1146939:-1.87\n",
      "1185630:-1.87\n",
      "1223790:-1.87\n",
      "1237750:-1.87\n",
      "1243294:-1.87\n",
      "1245082:-1.87\n",
      "1253343:-1.87\n",
      "1277882:-1.87\n",
      "1277897:-1.87\n",
      "1285971:-1.87\n",
      "1294248:-1.87\n",
      "149512:-1.87\n",
      "197304:-1.87\n",
      "197379:-1.87\n",
      "204003:-1.87\n",
      "220041:-1.87\n",
      "234602:-1.87\n",
      "332049:-1.87\n",
      "344141:-1.87\n",
      "352599:-1.87\n",
      "352600:-1.87\n",
      "393345:-1.87\n",
      "393547:-1.87\n",
      "393582:-1.87\n",
      "394491:-1.87\n",
      "394492:-1.87\n",
      "394493:-1.87\n",
      "394496:-1.87\n",
      "408477:-1.87\n",
      "434956:-1.87\n",
      "450806:-1.87\n",
      "457207:-1.87\n",
      "461725:-1.87\n",
      "497269:-1.87\n",
      "588115:-1.87\n",
      "589425:-1.87\n",
      "589601:-1.87\n",
      "671872:-1.87\n",
      "671875:-1.87\n",
      "671876:-1.87\n",
      "676927:-1.87\n",
      "676931:-1.87\n",
      "678590:-1.87\n",
      "706807:-1.87\n",
      "749877:-1.87\n",
      "764249:-1.87\n",
      "764251:-1.87\n",
      "765171:-1.87\n",
      "793783:-1.87\n",
      "854289:-1.87\n",
      "879668:-1.87\n",
      "882644:-1.87\n",
      "891006:-1.87\n",
      "902109:-1.87\n",
      "905306:-1.87\n",
      "909616:-1.87\n",
      "926202:-1.87\n",
      "945075:-1.87\n",
      "972594:-1.87\n",
      "9670:-1.87\n",
      "12567:-1.87\n",
      "17075:-1.87\n",
      "Time Taken :-  0.005733013153076172\n",
      "Number of Results :-  10\n",
      "Gandhi Jayanti\n",
      "Rajiv Gandhi Foundation\n",
      "Indira Gandhi International Airport\n",
      "Mohandas K. Gandhi\n",
      "Sonia Gandhi\n",
      "Sonja Gandhi\n",
      "Mahatma Gandhi Institute of Technology\n",
      "Gandhi Stadium\n",
      "Gopal Krishna Gandhi\n",
      "Wikipedia:Featured article removal candidates/Mahatma Gandhi\n"
     ]
    }
   ],
   "source": [
    "while True:\n",
    "    query_result = []\n",
    "    query = input(\"> \")\n",
    "    if (query == \"quit\") :\n",
    "        break\n",
    "    start = time.time()\n",
    "    result_doc = {}\n",
    "    if \":\" in query:\n",
    "        query_fields = query.split(\" \")\n",
    "        for queries in query_fields:\n",
    "            field, query = queries.split(\":\")\n",
    "            query = spell(query)\n",
    "            print(\"Field Query after auto correction: \", query)\n",
    "            if field == \"ref\" or field == \"ext\" or field == \"body\":\n",
    "                field = \"b\"\n",
    "            elif field == \"title\":\n",
    "                field = \"t\"\n",
    "            elif field == \"category\":\n",
    "                field = \"c\"\n",
    "            elif field == \"infobox\":\n",
    "                field = \"i\"\n",
    "            words = query.split(\" \")\n",
    "            for word in words:\n",
    "                word = stemmer.stem(word)\n",
    "                if word and word not in stop_words:\n",
    "                    if word in words_position and field in words_position[word]:\n",
    "                        docs = []\n",
    "                        pointer = words_position[word][field]\n",
    "                        fields[field].seek(pointer)\n",
    "                        posting_list = fields[field].readline()[:-1]\n",
    "                        posting_list = posting_list.split(\",\")\n",
    "                        for doc in posting_list:\n",
    "                            print(doc)\n",
    "                            doc_no, score = doc.split(\":\")\n",
    "                            if doc_no not in result_doc:\n",
    "                                result_doc[doc_no] = 0\n",
    "                            result_doc[doc_no] += float(score)\n",
    "    else:\n",
    "        query = spell(query)\n",
    "        print(\"Normal Query after auto-correction: \", query)\n",
    "        query_words = query.split(\" \")\n",
    "        for word in query_words:\n",
    "            word = word.strip()\n",
    "            word = stemmer.stem(word)\n",
    "            if word not in stop_words:\n",
    "                if word in words_position:\n",
    "                    docs = []\n",
    "                    for field in words_position[word].keys():\n",
    "                        pointer = words_position[word][field]\n",
    "                        print(field)\n",
    "                        fields[field].seek(pointer)\n",
    "                        posting_list = fields[field].readline()[: -1]\n",
    "                        posting_list = posting_list.split(\",\")\n",
    "                        for doc in posting_list:\n",
    "                            doc_no, score = doc.split(\":\")\n",
    "                            if doc_no not in result_doc:\n",
    "                                result_doc[doc_no] = 0\n",
    "                            result_doc[doc_no] += float(score)\n",
    "        \n",
    "    count = 1\n",
    "    result_doc = sorted(result_doc.items(), key = operator.itemgetter(1), reverse = True)\n",
    "    for document in result_doc :\n",
    "\n",
    "        position = title_position[int(document[0]) - 1]\n",
    "        titles.seek(position)\n",
    "        query_result.append(titles.readline()[: -1])\n",
    "        if count >= results :\n",
    "            break\n",
    "        count += 1\n",
    "        \n",
    "    end = time.time()\n",
    "    print(\"Time Taken :- \",(end-start))\n",
    "    if len(query_result) == 0:\n",
    "        print(\"No result found\")\n",
    "    else:\n",
    "        print(\"Number of Results :- \",len(query_result))\n",
    "        for result in query_result:\n",
    "            print(result)"
   ]
  },
  {
   "cell_type": "code",
   "execution_count": null,
   "metadata": {
    "id": "vnh_msUm_1EI"
   },
   "outputs": [],
   "source": []
  }
 ],
 "metadata": {
  "colab": {
   "collapsed_sections": [],
   "name": "search.ipynb",
   "provenance": []
  },
  "kernelspec": {
   "display_name": "Python 3",
   "language": "python",
   "name": "python3"
  },
  "language_info": {
   "codemirror_mode": {
    "name": "ipython",
    "version": 3
   },
   "file_extension": ".py",
   "mimetype": "text/x-python",
   "name": "python",
   "nbconvert_exporter": "python",
   "pygments_lexer": "ipython3",
   "version": "3.8.5"
  }
 },
 "nbformat": 4,
 "nbformat_minor": 1
}
